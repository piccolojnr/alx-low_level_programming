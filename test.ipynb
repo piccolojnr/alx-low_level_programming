{
 "cells": [
  {
   "cell_type": "code",
   "execution_count": 3,
   "metadata": {},
   "outputs": [],
   "source": [
    "def island_perimeter(grid):\n",
    "    \"\"\"returns the perimeter of the island described in grid\"\"\"\n",
    "    perimeter = 0\n",
    "    height = len(grid)\n",
    "    width = len(grid[0])\n",
    "    is_in = False\n",
    "    for i in range(height):\n",
    "        for j in range(width):\n",
    "            if grid[i][j] == 1:\n",
    "                if i == 0 or grid[i-1][j] == 0:\n",
    "                    perimeter+=1\n",
    "\n",
    "                if i == height-1 or grid[i+1][j] == 0:\n",
    "                    perimeter+=1\n",
    "\n",
    "                if  not is_in:\n",
    "                    is_in = True\n",
    "                    perimeter+=1\n",
    "            elif is_in  and grid[i][j] == 0:\n",
    "                is_in = False\n",
    "                perimeter+=1\n",
    "    return perimeter\n",
    "\n"
   ]
  },
  {
   "cell_type": "code",
   "execution_count": 17,
   "metadata": {},
   "outputs": [],
   "source": [
    "def island_perimeter2(grid):\n",
    "    \"\"\"returns the perimeter of the island described in grid\"\"\"\n",
    "    perimeter = 0\n",
    "    height = len(grid)\n",
    "    width = len(grid[0])\n",
    "\n",
    "    for i in range(height):\n",
    "        for j in range(width):\n",
    "            if grid[i][j] == 1:\n",
    "                perimeter += 4  # Each cell contributes 4 sides to the perimeter\n",
    "\n",
    "                # Check left neighbor\n",
    "                if j > 0 and grid[i][j - 1] == 1:\n",
    "                    perimeter -= 2  # Subtract 2 for shared side\n",
    "\n",
    "                # Check top neighbor\n",
    "                if i > 0 and grid[i - 1][j] == 1:\n",
    "                    perimeter -= 2  # Subtract 2 for shared side\n",
    "\n",
    "    return perimeter"
   ]
  },
  {
   "cell_type": "code",
   "execution_count": 23,
   "metadata": {},
   "outputs": [
    {
     "name": "stdout",
     "output_type": "stream",
     "text": [
      "12\n",
      "12\n"
     ]
    }
   ],
   "source": [
    "if __name__ == \"__main__\":\n",
    "    grid = [\n",
    "        [0, 0, 0, 0, 0, 0],\n",
    "        [0, 1, 0, 0, 0, 0],\n",
    "        [0, 1, 0, 0, 0, 0],\n",
    "        [0, 1, 1, 1, 0, 0],\n",
    "        [0, 0, 0, 0, 0, 0],\n",
    "    ]\n",
    "    print(island_perimeter(grid))\n",
    "    print(island_perimeter2(grid))"
   ]
  }
 ],
 "metadata": {
  "kernelspec": {
   "display_name": "Python 3",
   "language": "python",
   "name": "python3"
  },
  "language_info": {
   "codemirror_mode": {
    "name": "ipython",
    "version": 3
   },
   "file_extension": ".py",
   "mimetype": "text/x-python",
   "name": "python",
   "nbconvert_exporter": "python",
   "pygments_lexer": "ipython3",
   "version": "3.11.6"
  }
 },
 "nbformat": 4,
 "nbformat_minor": 2
}
